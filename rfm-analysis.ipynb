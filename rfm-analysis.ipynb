{
 "cells": [
  {
   "cell_type": "code",
   "execution_count": 1,
   "id": "7463d311",
   "metadata": {
    "_cell_guid": "b1076dfc-b9ad-4769-8c92-a6c4dae69d19",
    "_uuid": "8f2839f25d086af736a60e9eeb907d3b93b6e0e5",
    "execution": {
     "iopub.execute_input": "2024-02-09T23:48:41.748086Z",
     "iopub.status.busy": "2024-02-09T23:48:41.747691Z",
     "iopub.status.idle": "2024-02-09T23:48:44.035284Z",
     "shell.execute_reply": "2024-02-09T23:48:44.034087Z"
    },
    "papermill": {
     "duration": 2.296567,
     "end_time": "2024-02-09T23:48:44.037259",
     "exception": false,
     "start_time": "2024-02-09T23:48:41.740692",
     "status": "completed"
    },
    "tags": []
   },
   "outputs": [
    {
     "name": "stdout",
     "output_type": "stream",
     "text": [
      "/kaggle/input/online-retail-ii/online_retail_II.xlsx\n"
     ]
    }
   ],
   "source": [
    "# This Python 3 environment comes with many helpful analytics libraries installed\n",
    "# It is defined by the kaggle/python Docker image: https://github.com/kaggle/docker-python\n",
    "# For example, here's several helpful packages to load\n",
    "\n",
    "import numpy as np # linear algebra\n",
    "import pandas as pd # data processing, CSV file I/O (e.g. pd.read_csv)\n",
    "import matplotlib.pyplot as plt\n",
    "import datetime as dt\n",
    "import seaborn as sns\n",
    "\n",
    "# Input data files are available in the read-only \"../input/\" directory\n",
    "# For example, running this (by clicking run or pressing Shift+Enter) will list all files under the input directory\n",
    "\n",
    "import os\n",
    "for dirname, _, filenames in os.walk('/kaggle/input'):\n",
    "    for filename in filenames:\n",
    "        print(os.path.join(dirname, filename))\n",
    "\n",
    "# You can write up to 20GB to the current directory (/kaggle/working/) that gets preserved as output when you create a version using \"Save & Run All\" \n",
    "# You can also write temporary files to /kaggle/temp/, but they won't be saved outside of the current session"
   ]
  },
  {
   "cell_type": "markdown",
   "id": "e3bc43aa",
   "metadata": {
    "papermill": {
     "duration": 0.004517,
     "end_time": "2024-02-09T23:48:44.046647",
     "exception": false,
     "start_time": "2024-02-09T23:48:44.042130",
     "status": "completed"
    },
    "tags": []
   },
   "source": [
    "**Unveiling Customer Insights through RFM Analysis\n",
    "Embark on a journey to uncover profound customer insights as we delve into the world of online retail using the \"Online Retail II\" dataset. In this analysis, our spotlight will be on the powerful RFM framework – Recency, Frequency, and Monetary Value. RFM analysis is a strategic approach that enables businesses to understand and segment their customer base based on their recent transactional behavior, purchase frequency, and monetary contribution.\n",
    "\n",
    "The Essence of RFM Analysis\n",
    "Recency (R): Shining a light on the temporal aspect, Recency evaluates how recently a customer made a purchase. It provides a glimpse into customer engagement and loyalty.\n",
    "\n",
    "Frequency (F): Frequency explores the number of transactions a customer has conducted. It unveils insights into customer loyalty and the habitual nature of purchasing.\n",
    "\n",
    "Monetary Value (M): Monetary Value signifies the total amount a customer has spent. It showcases the economic contribution of each customer to the business.\n",
    "\n",
    "Unraveling Customer Segmentation\n",
    "Through RFM analysis, we aim to segment customers into distinct groups, each with its unique characteristics and behaviors. This segmentation will empower us to tailor marketing strategies, enhance customer experiences, and identify high-value segments deserving special attention.\n",
    "\n",
    "Join us in deciphering the stories encrypted in the RFM metrics and understanding the heartbeat of our online retail ecosystem.\n",
    "\n",
    "Dataset; \n",
    "\n",
    "Invoice: Represents the invoice number, a unique identifier for each transaction.\n",
    "\n",
    "Stock Code: Represents the stock code of the product. Each product is identified by a unique stock code.\n",
    "\n",
    "Description: Contains the description of the product. It includes text that describes the name or features of each product.\n",
    "\n",
    "Quantity: Represents the quantity of each product in the sales invoice. Positive numbers indicate sales, while negative numbers represent returns or cancellations.\n",
    "\n",
    "InvoiceDate: Contains the date and time information of the invoice. Indicates when the transaction took place.\n",
    "\n",
    "Price: Represents the unit price of the product. Multiplied by the \"Quantity\" to calculate the total invoice amount.\n",
    "\n",
    "CustomerID: Unique identifier for the customer. Allows tracking and analyzing sales specific to each customer.\n",
    "\n",
    "Country: Represents the country where the transaction occurred. Specifies the geographic location of the customer.****"
   ]
  },
  {
   "cell_type": "code",
   "execution_count": 2,
   "id": "f3f142ac",
   "metadata": {
    "execution": {
     "iopub.execute_input": "2024-02-09T23:48:44.057794Z",
     "iopub.status.busy": "2024-02-09T23:48:44.057249Z",
     "iopub.status.idle": "2024-02-09T23:49:46.550274Z",
     "shell.execute_reply": "2024-02-09T23:49:46.548520Z"
    },
    "papermill": {
     "duration": 62.504023,
     "end_time": "2024-02-09T23:49:46.555216",
     "exception": false,
     "start_time": "2024-02-09T23:48:44.051193",
     "status": "completed"
    },
    "tags": []
   },
   "outputs": [
    {
     "name": "stdout",
     "output_type": "stream",
     "text": [
      "  Invoice StockCode                          Description  Quantity  \\\n",
      "0  489434     85048  15CM CHRISTMAS GLASS BALL 20 LIGHTS        12   \n",
      "1  489434    79323P                   PINK CHERRY LIGHTS        12   \n",
      "2  489434    79323W                  WHITE CHERRY LIGHTS        12   \n",
      "3  489434     22041         RECORD FRAME 7\" SINGLE SIZE         48   \n",
      "4  489434     21232       STRAWBERRY CERAMIC TRINKET BOX        24   \n",
      "\n",
      "          InvoiceDate  Price  Customer ID         Country  \n",
      "0 2009-12-01 07:45:00   6.95      13085.0  United Kingdom  \n",
      "1 2009-12-01 07:45:00   6.75      13085.0  United Kingdom  \n",
      "2 2009-12-01 07:45:00   6.75      13085.0  United Kingdom  \n",
      "3 2009-12-01 07:45:00   2.10      13085.0  United Kingdom  \n",
      "4 2009-12-01 07:45:00   1.25      13085.0  United Kingdom  \n"
     ]
    }
   ],
   "source": [
    "#Loading data\n",
    "data = pd.read_excel('/kaggle/input/online-retail-ii/online_retail_II.xlsx')\n",
    "print(data.head())"
   ]
  },
  {
   "cell_type": "code",
   "execution_count": 3,
   "id": "046808d0",
   "metadata": {
    "execution": {
     "iopub.execute_input": "2024-02-09T23:49:46.682470Z",
     "iopub.status.busy": "2024-02-09T23:49:46.565637Z",
     "iopub.status.idle": "2024-02-09T23:49:46.781149Z",
     "shell.execute_reply": "2024-02-09T23:49:46.780352Z"
    },
    "papermill": {
     "duration": 0.223289,
     "end_time": "2024-02-09T23:49:46.783078",
     "exception": false,
     "start_time": "2024-02-09T23:49:46.559789",
     "status": "completed"
    },
    "tags": []
   },
   "outputs": [
    {
     "name": "stdout",
     "output_type": "stream",
     "text": [
      "<class 'pandas.core.frame.DataFrame'>\n",
      "RangeIndex: 525461 entries, 0 to 525460\n",
      "Data columns (total 8 columns):\n",
      " #   Column       Non-Null Count   Dtype         \n",
      "---  ------       --------------   -----         \n",
      " 0   Invoice      525461 non-null  object        \n",
      " 1   StockCode    525461 non-null  object        \n",
      " 2   Description  522533 non-null  object        \n",
      " 3   Quantity     525461 non-null  int64         \n",
      " 4   InvoiceDate  525461 non-null  datetime64[ns]\n",
      " 5   Price        525461 non-null  float64       \n",
      " 6   Customer ID  417534 non-null  float64       \n",
      " 7   Country      525461 non-null  object        \n",
      "dtypes: datetime64[ns](1), float64(2), int64(1), object(4)\n",
      "memory usage: 32.1+ MB\n"
     ]
    }
   ],
   "source": [
    "data.info()"
   ]
  },
  {
   "cell_type": "code",
   "execution_count": 4,
   "id": "80c9a0df",
   "metadata": {
    "execution": {
     "iopub.execute_input": "2024-02-09T23:49:46.794856Z",
     "iopub.status.busy": "2024-02-09T23:49:46.794318Z",
     "iopub.status.idle": "2024-02-09T23:49:46.808863Z",
     "shell.execute_reply": "2024-02-09T23:49:46.808020Z"
    },
    "papermill": {
     "duration": 0.022423,
     "end_time": "2024-02-09T23:49:46.810784",
     "exception": false,
     "start_time": "2024-02-09T23:49:46.788361",
     "status": "completed"
    },
    "tags": []
   },
   "outputs": [
    {
     "data": {
      "text/html": [
       "<div>\n",
       "<style scoped>\n",
       "    .dataframe tbody tr th:only-of-type {\n",
       "        vertical-align: middle;\n",
       "    }\n",
       "\n",
       "    .dataframe tbody tr th {\n",
       "        vertical-align: top;\n",
       "    }\n",
       "\n",
       "    .dataframe thead th {\n",
       "        text-align: right;\n",
       "    }\n",
       "</style>\n",
       "<table border=\"1\" class=\"dataframe\">\n",
       "  <thead>\n",
       "    <tr style=\"text-align: right;\">\n",
       "      <th></th>\n",
       "      <th>Invoice</th>\n",
       "      <th>StockCode</th>\n",
       "      <th>Description</th>\n",
       "      <th>Quantity</th>\n",
       "      <th>InvoiceDate</th>\n",
       "      <th>Price</th>\n",
       "      <th>Customer ID</th>\n",
       "      <th>Country</th>\n",
       "    </tr>\n",
       "  </thead>\n",
       "  <tbody>\n",
       "    <tr>\n",
       "      <th>0</th>\n",
       "      <td>489434</td>\n",
       "      <td>85048</td>\n",
       "      <td>15CM CHRISTMAS GLASS BALL 20 LIGHTS</td>\n",
       "      <td>12</td>\n",
       "      <td>2009-12-01 07:45:00</td>\n",
       "      <td>6.95</td>\n",
       "      <td>13085.0</td>\n",
       "      <td>United Kingdom</td>\n",
       "    </tr>\n",
       "    <tr>\n",
       "      <th>1</th>\n",
       "      <td>489434</td>\n",
       "      <td>79323P</td>\n",
       "      <td>PINK CHERRY LIGHTS</td>\n",
       "      <td>12</td>\n",
       "      <td>2009-12-01 07:45:00</td>\n",
       "      <td>6.75</td>\n",
       "      <td>13085.0</td>\n",
       "      <td>United Kingdom</td>\n",
       "    </tr>\n",
       "    <tr>\n",
       "      <th>2</th>\n",
       "      <td>489434</td>\n",
       "      <td>79323W</td>\n",
       "      <td>WHITE CHERRY LIGHTS</td>\n",
       "      <td>12</td>\n",
       "      <td>2009-12-01 07:45:00</td>\n",
       "      <td>6.75</td>\n",
       "      <td>13085.0</td>\n",
       "      <td>United Kingdom</td>\n",
       "    </tr>\n",
       "    <tr>\n",
       "      <th>3</th>\n",
       "      <td>489434</td>\n",
       "      <td>22041</td>\n",
       "      <td>RECORD FRAME 7\" SINGLE SIZE</td>\n",
       "      <td>48</td>\n",
       "      <td>2009-12-01 07:45:00</td>\n",
       "      <td>2.10</td>\n",
       "      <td>13085.0</td>\n",
       "      <td>United Kingdom</td>\n",
       "    </tr>\n",
       "    <tr>\n",
       "      <th>4</th>\n",
       "      <td>489434</td>\n",
       "      <td>21232</td>\n",
       "      <td>STRAWBERRY CERAMIC TRINKET BOX</td>\n",
       "      <td>24</td>\n",
       "      <td>2009-12-01 07:45:00</td>\n",
       "      <td>1.25</td>\n",
       "      <td>13085.0</td>\n",
       "      <td>United Kingdom</td>\n",
       "    </tr>\n",
       "  </tbody>\n",
       "</table>\n",
       "</div>"
      ],
      "text/plain": [
       "  Invoice StockCode                          Description  Quantity  \\\n",
       "0  489434     85048  15CM CHRISTMAS GLASS BALL 20 LIGHTS        12   \n",
       "1  489434    79323P                   PINK CHERRY LIGHTS        12   \n",
       "2  489434    79323W                  WHITE CHERRY LIGHTS        12   \n",
       "3  489434     22041         RECORD FRAME 7\" SINGLE SIZE         48   \n",
       "4  489434     21232       STRAWBERRY CERAMIC TRINKET BOX        24   \n",
       "\n",
       "          InvoiceDate  Price  Customer ID         Country  \n",
       "0 2009-12-01 07:45:00   6.95      13085.0  United Kingdom  \n",
       "1 2009-12-01 07:45:00   6.75      13085.0  United Kingdom  \n",
       "2 2009-12-01 07:45:00   6.75      13085.0  United Kingdom  \n",
       "3 2009-12-01 07:45:00   2.10      13085.0  United Kingdom  \n",
       "4 2009-12-01 07:45:00   1.25      13085.0  United Kingdom  "
      ]
     },
     "execution_count": 4,
     "metadata": {},
     "output_type": "execute_result"
    }
   ],
   "source": [
    "data.head()"
   ]
  },
  {
   "cell_type": "code",
   "execution_count": 5,
   "id": "f07746e8",
   "metadata": {
    "execution": {
     "iopub.execute_input": "2024-02-09T23:49:46.823638Z",
     "iopub.status.busy": "2024-02-09T23:49:46.823082Z",
     "iopub.status.idle": "2024-02-09T23:49:46.835764Z",
     "shell.execute_reply": "2024-02-09T23:49:46.834449Z"
    },
    "papermill": {
     "duration": 0.021983,
     "end_time": "2024-02-09T23:49:46.838372",
     "exception": false,
     "start_time": "2024-02-09T23:49:46.816389",
     "status": "completed"
    },
    "tags": []
   },
   "outputs": [
    {
     "data": {
      "text/html": [
       "<div>\n",
       "<style scoped>\n",
       "    .dataframe tbody tr th:only-of-type {\n",
       "        vertical-align: middle;\n",
       "    }\n",
       "\n",
       "    .dataframe tbody tr th {\n",
       "        vertical-align: top;\n",
       "    }\n",
       "\n",
       "    .dataframe thead th {\n",
       "        text-align: right;\n",
       "    }\n",
       "</style>\n",
       "<table border=\"1\" class=\"dataframe\">\n",
       "  <thead>\n",
       "    <tr style=\"text-align: right;\">\n",
       "      <th></th>\n",
       "      <th>Invoice</th>\n",
       "      <th>StockCode</th>\n",
       "      <th>Description</th>\n",
       "      <th>Quantity</th>\n",
       "      <th>InvoiceDate</th>\n",
       "      <th>Price</th>\n",
       "      <th>Customer ID</th>\n",
       "      <th>Country</th>\n",
       "    </tr>\n",
       "  </thead>\n",
       "  <tbody>\n",
       "    <tr>\n",
       "      <th>525456</th>\n",
       "      <td>538171</td>\n",
       "      <td>22271</td>\n",
       "      <td>FELTCRAFT DOLL ROSIE</td>\n",
       "      <td>2</td>\n",
       "      <td>2010-12-09 20:01:00</td>\n",
       "      <td>2.95</td>\n",
       "      <td>17530.0</td>\n",
       "      <td>United Kingdom</td>\n",
       "    </tr>\n",
       "    <tr>\n",
       "      <th>525457</th>\n",
       "      <td>538171</td>\n",
       "      <td>22750</td>\n",
       "      <td>FELTCRAFT PRINCESS LOLA DOLL</td>\n",
       "      <td>1</td>\n",
       "      <td>2010-12-09 20:01:00</td>\n",
       "      <td>3.75</td>\n",
       "      <td>17530.0</td>\n",
       "      <td>United Kingdom</td>\n",
       "    </tr>\n",
       "    <tr>\n",
       "      <th>525458</th>\n",
       "      <td>538171</td>\n",
       "      <td>22751</td>\n",
       "      <td>FELTCRAFT PRINCESS OLIVIA DOLL</td>\n",
       "      <td>1</td>\n",
       "      <td>2010-12-09 20:01:00</td>\n",
       "      <td>3.75</td>\n",
       "      <td>17530.0</td>\n",
       "      <td>United Kingdom</td>\n",
       "    </tr>\n",
       "    <tr>\n",
       "      <th>525459</th>\n",
       "      <td>538171</td>\n",
       "      <td>20970</td>\n",
       "      <td>PINK FLORAL FELTCRAFT SHOULDER BAG</td>\n",
       "      <td>2</td>\n",
       "      <td>2010-12-09 20:01:00</td>\n",
       "      <td>3.75</td>\n",
       "      <td>17530.0</td>\n",
       "      <td>United Kingdom</td>\n",
       "    </tr>\n",
       "    <tr>\n",
       "      <th>525460</th>\n",
       "      <td>538171</td>\n",
       "      <td>21931</td>\n",
       "      <td>JUMBO STORAGE BAG SUKI</td>\n",
       "      <td>2</td>\n",
       "      <td>2010-12-09 20:01:00</td>\n",
       "      <td>1.95</td>\n",
       "      <td>17530.0</td>\n",
       "      <td>United Kingdom</td>\n",
       "    </tr>\n",
       "  </tbody>\n",
       "</table>\n",
       "</div>"
      ],
      "text/plain": [
       "       Invoice StockCode                         Description  Quantity  \\\n",
       "525456  538171     22271                FELTCRAFT DOLL ROSIE         2   \n",
       "525457  538171     22750        FELTCRAFT PRINCESS LOLA DOLL         1   \n",
       "525458  538171     22751      FELTCRAFT PRINCESS OLIVIA DOLL         1   \n",
       "525459  538171     20970  PINK FLORAL FELTCRAFT SHOULDER BAG         2   \n",
       "525460  538171     21931              JUMBO STORAGE BAG SUKI         2   \n",
       "\n",
       "               InvoiceDate  Price  Customer ID         Country  \n",
       "525456 2010-12-09 20:01:00   2.95      17530.0  United Kingdom  \n",
       "525457 2010-12-09 20:01:00   3.75      17530.0  United Kingdom  \n",
       "525458 2010-12-09 20:01:00   3.75      17530.0  United Kingdom  \n",
       "525459 2010-12-09 20:01:00   3.75      17530.0  United Kingdom  \n",
       "525460 2010-12-09 20:01:00   1.95      17530.0  United Kingdom  "
      ]
     },
     "execution_count": 5,
     "metadata": {},
     "output_type": "execute_result"
    }
   ],
   "source": [
    "data.tail()"
   ]
  },
  {
   "cell_type": "code",
   "execution_count": 6,
   "id": "10231bb4",
   "metadata": {
    "execution": {
     "iopub.execute_input": "2024-02-09T23:49:46.852442Z",
     "iopub.status.busy": "2024-02-09T23:49:46.851607Z",
     "iopub.status.idle": "2024-02-09T23:49:46.931188Z",
     "shell.execute_reply": "2024-02-09T23:49:46.930306Z"
    },
    "papermill": {
     "duration": 0.088838,
     "end_time": "2024-02-09T23:49:46.933422",
     "exception": false,
     "start_time": "2024-02-09T23:49:46.844584",
     "status": "completed"
    },
    "tags": []
   },
   "outputs": [
    {
     "data": {
      "text/plain": [
       "Invoice             0\n",
       "StockCode           0\n",
       "Description      2928\n",
       "Quantity            0\n",
       "InvoiceDate         0\n",
       "Price               0\n",
       "Customer ID    107927\n",
       "Country             0\n",
       "dtype: int64"
      ]
     },
     "execution_count": 6,
     "metadata": {},
     "output_type": "execute_result"
    }
   ],
   "source": [
    "#we want to see if there are empty columns\n",
    "data.isnull().sum()"
   ]
  },
  {
   "cell_type": "code",
   "execution_count": 7,
   "id": "db86d267",
   "metadata": {
    "execution": {
     "iopub.execute_input": "2024-02-09T23:49:46.946537Z",
     "iopub.status.busy": "2024-02-09T23:49:46.945918Z",
     "iopub.status.idle": "2024-02-09T23:49:47.344037Z",
     "shell.execute_reply": "2024-02-09T23:49:47.343057Z"
    },
    "papermill": {
     "duration": 0.407245,
     "end_time": "2024-02-09T23:49:47.346422",
     "exception": false,
     "start_time": "2024-02-09T23:49:46.939177",
     "status": "completed"
    },
    "tags": []
   },
   "outputs": [
    {
     "data": {
      "text/plain": [
       "Invoice  StockCode  Description                          Quantity  InvoiceDate          Price  Customer ID  Country       \n",
       "496431   84826      ASSTD DESIGN 3D PAPER STICKERS        1        2010-02-01 12:30:00  0.85   16415.0      United Kingdom    6\n",
       "525065   20894      HANGING BAUBLE T-LIGHT HOLDER LARGE   1        2010-10-03 14:28:00  2.95   16799.0      United Kingdom    6\n",
       "502660   17021      NAMASTE SWAGAT INCENSE                6        2010-03-25 17:18:00  0.30   13187.0      United Kingdom    6\n",
       "534219   35953      FOLKART STAR CHRISTMAS DECORATIONS    1        2010-11-21 16:13:00  1.25   13230.0      United Kingdom    6\n",
       "492784   22114      HOT WATER BOTTLE TEA AND SYMPATHY     1        2009-12-18 17:24:00  3.95   17841.0      United Kingdom    5\n",
       "                                                                                                                             ..\n",
       "507227   84970S     HANGING HEART ZINC T-LIGHT HOLDER     24       2010-05-06 19:49:00  0.85   15955.0      United Kingdom    1\n",
       "         82494L     WOODEN FRAME ANTIQUE WHITE            6        2010-05-06 19:49:00  2.95   15955.0      United Kingdom    1\n",
       "         85150      LADIES & GENTLEMEN METAL SIGN         12       2010-05-06 19:49:00  2.55   15955.0      United Kingdom    1\n",
       "         84978      HANGING HEART JAR T-LIGHT HOLDER      24       2010-05-06 19:49:00  1.25   15955.0      United Kingdom    1\n",
       "C538164  35004B     SET OF 3 BLACK FLYING DUCKS          -1        2010-12-09 17:32:00  1.95   14031.0      United Kingdom    1\n",
       "Name: count, Length: 410763, dtype: int64"
      ]
     },
     "execution_count": 7,
     "metadata": {},
     "output_type": "execute_result"
    }
   ],
   "source": [
    "data.value_counts()"
   ]
  },
  {
   "cell_type": "code",
   "execution_count": 8,
   "id": "4cc38e7a",
   "metadata": {
    "execution": {
     "iopub.execute_input": "2024-02-09T23:49:47.360354Z",
     "iopub.status.busy": "2024-02-09T23:49:47.359723Z",
     "iopub.status.idle": "2024-02-09T23:49:47.443348Z",
     "shell.execute_reply": "2024-02-09T23:49:47.442498Z"
    },
    "papermill": {
     "duration": 0.093515,
     "end_time": "2024-02-09T23:49:47.445926",
     "exception": false,
     "start_time": "2024-02-09T23:49:47.352411",
     "status": "completed"
    },
    "tags": []
   },
   "outputs": [
    {
     "data": {
      "text/plain": [
       "Invoice        525461\n",
       "StockCode      525461\n",
       "Description    522533\n",
       "Quantity       525461\n",
       "InvoiceDate    525461\n",
       "Price          525461\n",
       "Customer ID    417534\n",
       "Country        525461\n",
       "dtype: int64"
      ]
     },
     "execution_count": 8,
     "metadata": {},
     "output_type": "execute_result"
    }
   ],
   "source": [
    "data.count()"
   ]
  },
  {
   "cell_type": "code",
   "execution_count": 9,
   "id": "fb0d8df1",
   "metadata": {
    "execution": {
     "iopub.execute_input": "2024-02-09T23:49:47.459469Z",
     "iopub.status.busy": "2024-02-09T23:49:47.459069Z",
     "iopub.status.idle": "2024-02-09T23:49:47.469672Z",
     "shell.execute_reply": "2024-02-09T23:49:47.468443Z"
    },
    "papermill": {
     "duration": 0.019767,
     "end_time": "2024-02-09T23:49:47.471614",
     "exception": false,
     "start_time": "2024-02-09T23:49:47.451847",
     "status": "completed"
    },
    "tags": []
   },
   "outputs": [
    {
     "data": {
      "text/plain": [
       "0          83.40\n",
       "1          81.00\n",
       "2          81.00\n",
       "3         100.80\n",
       "4          30.00\n",
       "           ...  \n",
       "525456      5.90\n",
       "525457      3.75\n",
       "525458      3.75\n",
       "525459      7.50\n",
       "525460      3.90\n",
       "Name: TotalPrice, Length: 525461, dtype: float64"
      ]
     },
     "execution_count": 9,
     "metadata": {},
     "output_type": "execute_result"
    }
   ],
   "source": [
    "#We add total spend as a column\n",
    "data['TotalPrice'] = data['Price'] * data['Quantity']\n",
    "data['TotalPrice']"
   ]
  },
  {
   "cell_type": "code",
   "execution_count": 10,
   "id": "1ecb7be6",
   "metadata": {
    "execution": {
     "iopub.execute_input": "2024-02-09T23:49:47.492076Z",
     "iopub.status.busy": "2024-02-09T23:49:47.491717Z",
     "iopub.status.idle": "2024-02-09T23:49:47.523096Z",
     "shell.execute_reply": "2024-02-09T23:49:47.522239Z"
    },
    "papermill": {
     "duration": 0.040025,
     "end_time": "2024-02-09T23:49:47.524914",
     "exception": false,
     "start_time": "2024-02-09T23:49:47.484889",
     "status": "completed"
    },
    "tags": []
   },
   "outputs": [
    {
     "data": {
      "text/plain": [
       "Invoice                object\n",
       "StockCode              object\n",
       "Description            object\n",
       "Quantity                int64\n",
       "InvoiceDate    datetime64[ns]\n",
       "Price                 float64\n",
       "Customer ID           float64\n",
       "Country                object\n",
       "TotalPrice            float64\n",
       "dtype: object"
      ]
     },
     "execution_count": 10,
     "metadata": {},
     "output_type": "execute_result"
    }
   ],
   "source": [
    "#We change the data type of the order date\n",
    "data['InvoiceDate'] = pd.to_datetime(data['InvoiceDate'])\n",
    "data['InvoiceDate'].dtype\n",
    "data.dtypes"
   ]
  },
  {
   "cell_type": "code",
   "execution_count": 11,
   "id": "9c576b0c",
   "metadata": {
    "execution": {
     "iopub.execute_input": "2024-02-09T23:49:47.538247Z",
     "iopub.status.busy": "2024-02-09T23:49:47.537647Z",
     "iopub.status.idle": "2024-02-09T23:49:47.664592Z",
     "shell.execute_reply": "2024-02-09T23:49:47.663690Z"
    },
    "papermill": {
     "duration": 0.135772,
     "end_time": "2024-02-09T23:49:47.666409",
     "exception": false,
     "start_time": "2024-02-09T23:49:47.530637",
     "status": "completed"
    },
    "tags": []
   },
   "outputs": [
    {
     "data": {
      "text/html": [
       "<div>\n",
       "<style scoped>\n",
       "    .dataframe tbody tr th:only-of-type {\n",
       "        vertical-align: middle;\n",
       "    }\n",
       "\n",
       "    .dataframe tbody tr th {\n",
       "        vertical-align: top;\n",
       "    }\n",
       "\n",
       "    .dataframe thead th {\n",
       "        text-align: right;\n",
       "    }\n",
       "</style>\n",
       "<table border=\"1\" class=\"dataframe\">\n",
       "  <thead>\n",
       "    <tr style=\"text-align: right;\">\n",
       "      <th></th>\n",
       "      <th>Invoice</th>\n",
       "      <th>StockCode</th>\n",
       "      <th>Description</th>\n",
       "      <th>Quantity</th>\n",
       "      <th>InvoiceDate</th>\n",
       "      <th>Price</th>\n",
       "      <th>Customer ID</th>\n",
       "      <th>Country</th>\n",
       "      <th>TotalPrice</th>\n",
       "    </tr>\n",
       "  </thead>\n",
       "  <tbody>\n",
       "    <tr>\n",
       "      <th>0</th>\n",
       "      <td>489434</td>\n",
       "      <td>85048</td>\n",
       "      <td>15CM CHRISTMAS GLASS BALL 20 LIGHTS</td>\n",
       "      <td>12</td>\n",
       "      <td>2009-12-01 07:45:00</td>\n",
       "      <td>6.95</td>\n",
       "      <td>13085.0</td>\n",
       "      <td>United Kingdom</td>\n",
       "      <td>83.4</td>\n",
       "    </tr>\n",
       "    <tr>\n",
       "      <th>1</th>\n",
       "      <td>489434</td>\n",
       "      <td>79323P</td>\n",
       "      <td>PINK CHERRY LIGHTS</td>\n",
       "      <td>12</td>\n",
       "      <td>2009-12-01 07:45:00</td>\n",
       "      <td>6.75</td>\n",
       "      <td>13085.0</td>\n",
       "      <td>United Kingdom</td>\n",
       "      <td>81.0</td>\n",
       "    </tr>\n",
       "    <tr>\n",
       "      <th>2</th>\n",
       "      <td>489434</td>\n",
       "      <td>79323W</td>\n",
       "      <td>WHITE CHERRY LIGHTS</td>\n",
       "      <td>12</td>\n",
       "      <td>2009-12-01 07:45:00</td>\n",
       "      <td>6.75</td>\n",
       "      <td>13085.0</td>\n",
       "      <td>United Kingdom</td>\n",
       "      <td>81.0</td>\n",
       "    </tr>\n",
       "    <tr>\n",
       "      <th>3</th>\n",
       "      <td>489434</td>\n",
       "      <td>22041</td>\n",
       "      <td>RECORD FRAME 7\" SINGLE SIZE</td>\n",
       "      <td>48</td>\n",
       "      <td>2009-12-01 07:45:00</td>\n",
       "      <td>2.10</td>\n",
       "      <td>13085.0</td>\n",
       "      <td>United Kingdom</td>\n",
       "      <td>100.8</td>\n",
       "    </tr>\n",
       "    <tr>\n",
       "      <th>4</th>\n",
       "      <td>489434</td>\n",
       "      <td>21232</td>\n",
       "      <td>STRAWBERRY CERAMIC TRINKET BOX</td>\n",
       "      <td>24</td>\n",
       "      <td>2009-12-01 07:45:00</td>\n",
       "      <td>1.25</td>\n",
       "      <td>13085.0</td>\n",
       "      <td>United Kingdom</td>\n",
       "      <td>30.0</td>\n",
       "    </tr>\n",
       "  </tbody>\n",
       "</table>\n",
       "</div>"
      ],
      "text/plain": [
       "  Invoice StockCode                          Description  Quantity  \\\n",
       "0  489434     85048  15CM CHRISTMAS GLASS BALL 20 LIGHTS        12   \n",
       "1  489434    79323P                   PINK CHERRY LIGHTS        12   \n",
       "2  489434    79323W                  WHITE CHERRY LIGHTS        12   \n",
       "3  489434     22041         RECORD FRAME 7\" SINGLE SIZE         48   \n",
       "4  489434     21232       STRAWBERRY CERAMIC TRINKET BOX        24   \n",
       "\n",
       "          InvoiceDate  Price  Customer ID         Country  TotalPrice  \n",
       "0 2009-12-01 07:45:00   6.95      13085.0  United Kingdom        83.4  \n",
       "1 2009-12-01 07:45:00   6.75      13085.0  United Kingdom        81.0  \n",
       "2 2009-12-01 07:45:00   6.75      13085.0  United Kingdom        81.0  \n",
       "3 2009-12-01 07:45:00   2.10      13085.0  United Kingdom       100.8  \n",
       "4 2009-12-01 07:45:00   1.25      13085.0  United Kingdom        30.0  "
      ]
     },
     "execution_count": 11,
     "metadata": {},
     "output_type": "execute_result"
    }
   ],
   "source": [
    "#we take values greater than #0.\n",
    "data = data[data['Quantity'] >0 ]\n",
    "data = data[data['TotalPrice'] >0 ]\n",
    "data.head()"
   ]
  },
  {
   "cell_type": "code",
   "execution_count": 12,
   "id": "b9b5b953",
   "metadata": {
    "execution": {
     "iopub.execute_input": "2024-02-09T23:49:47.681235Z",
     "iopub.status.busy": "2024-02-09T23:49:47.680793Z",
     "iopub.status.idle": "2024-02-09T23:49:48.320278Z",
     "shell.execute_reply": "2024-02-09T23:49:48.318581Z"
    },
    "papermill": {
     "duration": 0.649679,
     "end_time": "2024-02-09T23:49:48.322897",
     "exception": false,
     "start_time": "2024-02-09T23:49:47.673218",
     "status": "completed"
    },
    "tags": []
   },
   "outputs": [
    {
     "name": "stdout",
     "output_type": "stream",
     "text": [
      "             TotalPrice  InvoiceDate\n",
      "Customer ID                         \n",
      "12346.0          372.86          551\n",
      "12347.0         1323.32          389\n",
      "12348.0          222.16          460\n",
      "12349.0         2671.14          429\n",
      "12351.0          300.93          397\n",
      "...                 ...          ...\n",
      "18283.0          641.77          404\n",
      "18284.0          461.68          453\n",
      "18285.0          427.00          682\n",
      "18286.0         1296.43          498\n",
      "18287.0         2345.71          404\n",
      "\n",
      "[4312 rows x 2 columns]\n"
     ]
    }
   ],
   "source": [
    "#We find the values for Recency and Monetary.\n",
    "today = pd.to_datetime('2012-1-1')\n",
    "data_x = data.groupby('Customer ID').agg({'TotalPrice': lambda x: x.sum(),\n",
    "                                        'InvoiceDate': lambda x: (today - x.max()).days})\n",
    "print(data_x)"
   ]
  },
  {
   "cell_type": "code",
   "execution_count": 13,
   "id": "1fe11427",
   "metadata": {
    "execution": {
     "iopub.execute_input": "2024-02-09T23:49:48.337070Z",
     "iopub.status.busy": "2024-02-09T23:49:48.336642Z",
     "iopub.status.idle": "2024-02-09T23:49:49.254631Z",
     "shell.execute_reply": "2024-02-09T23:49:49.253530Z"
    },
    "papermill": {
     "duration": 0.927931,
     "end_time": "2024-02-09T23:49:49.257111",
     "exception": false,
     "start_time": "2024-02-09T23:49:48.329180",
     "status": "completed"
    },
    "tags": []
   },
   "outputs": [
    {
     "name": "stdout",
     "output_type": "stream",
     "text": [
      "                     TotalPrice\n",
      "Customer ID Invoice            \n",
      "12346.0     491725        45.00\n",
      "            491742        22.50\n",
      "            491744        22.50\n",
      "            492718        22.50\n",
      "            492722         1.00\n",
      "...                         ...\n",
      "18286.0     519785       833.48\n",
      "18287.0     508581      1071.61\n",
      "            523289       862.00\n",
      "            523290        30.60\n",
      "            534346       381.50\n",
      "\n",
      "[19213 rows x 1 columns]\n"
     ]
    }
   ],
   "source": [
    "#Since the data is based on StockCode, we make InvoiceNo unique.\n",
    "data_y = data.groupby(['Customer ID','Invoice']).agg({'TotalPrice': lambda x: x.sum()})\n",
    "print(data_y)"
   ]
  },
  {
   "cell_type": "code",
   "execution_count": 14,
   "id": "b3713a0f",
   "metadata": {
    "execution": {
     "iopub.execute_input": "2024-02-09T23:49:49.272097Z",
     "iopub.status.busy": "2024-02-09T23:49:49.271692Z",
     "iopub.status.idle": "2024-02-09T23:49:49.434938Z",
     "shell.execute_reply": "2024-02-09T23:49:49.433367Z"
    },
    "papermill": {
     "duration": 0.173542,
     "end_time": "2024-02-09T23:49:49.437383",
     "exception": false,
     "start_time": "2024-02-09T23:49:49.263841",
     "status": "completed"
    },
    "tags": []
   },
   "outputs": [
    {
     "name": "stdout",
     "output_type": "stream",
     "text": [
      "             TotalPrice\n",
      "Customer ID            \n",
      "12346.0              11\n",
      "12347.0               2\n",
      "12348.0               1\n",
      "12349.0               3\n",
      "12351.0               1\n",
      "...                 ...\n",
      "18283.0               6\n",
      "18284.0               1\n",
      "18285.0               1\n",
      "18286.0               2\n",
      "18287.0               4\n",
      "\n",
      "[4312 rows x 1 columns]\n"
     ]
    }
   ],
   "source": [
    "#To ensure uniqueness in the 'Invoice' field\n",
    "data_z = data_y.groupby('Customer ID').agg({'TotalPrice': lambda x: len(x)})\n",
    "print(data_z)"
   ]
  },
  {
   "cell_type": "code",
   "execution_count": 15,
   "id": "6c58f22a",
   "metadata": {
    "execution": {
     "iopub.execute_input": "2024-02-09T23:49:49.451556Z",
     "iopub.status.busy": "2024-02-09T23:49:49.451147Z",
     "iopub.status.idle": "2024-02-09T23:49:49.464017Z",
     "shell.execute_reply": "2024-02-09T23:49:49.462822Z"
    },
    "papermill": {
     "duration": 0.022405,
     "end_time": "2024-02-09T23:49:49.466189",
     "exception": false,
     "start_time": "2024-02-09T23:49:49.443784",
     "status": "completed"
    },
    "tags": []
   },
   "outputs": [
    {
     "name": "stdout",
     "output_type": "stream",
     "text": [
      "             TotalPrice_x  InvoiceDate  TotalPrice_y\n",
      "Customer ID                                         \n",
      "12346.0            372.86          551            11\n",
      "12347.0           1323.32          389             2\n",
      "12348.0            222.16          460             1\n",
      "12349.0           2671.14          429             3\n",
      "12351.0            300.93          397             1\n",
      "...                   ...          ...           ...\n",
      "18283.0            641.77          404             6\n",
      "18284.0            461.68          453             1\n",
      "18285.0            427.00          682             1\n",
      "18286.0           1296.43          498             2\n",
      "18287.0           2345.71          404             4\n",
      "\n",
      "[4312 rows x 3 columns]\n"
     ]
    }
   ],
   "source": [
    "# We have reached the RFM table.\n",
    "rfm_table= pd.merge(data_x,data_z, on='Customer ID')\n",
    "print(rfm_table)"
   ]
  },
  {
   "cell_type": "code",
   "execution_count": 16,
   "id": "3b80bd15",
   "metadata": {
    "execution": {
     "iopub.execute_input": "2024-02-09T23:49:49.480936Z",
     "iopub.status.busy": "2024-02-09T23:49:49.480520Z",
     "iopub.status.idle": "2024-02-09T23:49:49.492056Z",
     "shell.execute_reply": "2024-02-09T23:49:49.491228Z"
    },
    "papermill": {
     "duration": 0.020892,
     "end_time": "2024-02-09T23:49:49.493797",
     "exception": false,
     "start_time": "2024-02-09T23:49:49.472905",
     "status": "completed"
    },
    "tags": []
   },
   "outputs": [
    {
     "data": {
      "text/html": [
       "<div>\n",
       "<style scoped>\n",
       "    .dataframe tbody tr th:only-of-type {\n",
       "        vertical-align: middle;\n",
       "    }\n",
       "\n",
       "    .dataframe tbody tr th {\n",
       "        vertical-align: top;\n",
       "    }\n",
       "\n",
       "    .dataframe thead th {\n",
       "        text-align: right;\n",
       "    }\n",
       "</style>\n",
       "<table border=\"1\" class=\"dataframe\">\n",
       "  <thead>\n",
       "    <tr style=\"text-align: right;\">\n",
       "      <th></th>\n",
       "      <th>Monetary</th>\n",
       "      <th>Recency</th>\n",
       "      <th>Frequency</th>\n",
       "    </tr>\n",
       "    <tr>\n",
       "      <th>Customer ID</th>\n",
       "      <th></th>\n",
       "      <th></th>\n",
       "      <th></th>\n",
       "    </tr>\n",
       "  </thead>\n",
       "  <tbody>\n",
       "    <tr>\n",
       "      <th>12346.0</th>\n",
       "      <td>372.86</td>\n",
       "      <td>551</td>\n",
       "      <td>11</td>\n",
       "    </tr>\n",
       "    <tr>\n",
       "      <th>12347.0</th>\n",
       "      <td>1323.32</td>\n",
       "      <td>389</td>\n",
       "      <td>2</td>\n",
       "    </tr>\n",
       "    <tr>\n",
       "      <th>12348.0</th>\n",
       "      <td>222.16</td>\n",
       "      <td>460</td>\n",
       "      <td>1</td>\n",
       "    </tr>\n",
       "    <tr>\n",
       "      <th>12349.0</th>\n",
       "      <td>2671.14</td>\n",
       "      <td>429</td>\n",
       "      <td>3</td>\n",
       "    </tr>\n",
       "    <tr>\n",
       "      <th>12351.0</th>\n",
       "      <td>300.93</td>\n",
       "      <td>397</td>\n",
       "      <td>1</td>\n",
       "    </tr>\n",
       "  </tbody>\n",
       "</table>\n",
       "</div>"
      ],
      "text/plain": [
       "             Monetary  Recency  Frequency\n",
       "Customer ID                              \n",
       "12346.0        372.86      551         11\n",
       "12347.0       1323.32      389          2\n",
       "12348.0        222.16      460          1\n",
       "12349.0       2671.14      429          3\n",
       "12351.0        300.93      397          1"
      ]
     },
     "execution_count": 16,
     "metadata": {},
     "output_type": "execute_result"
    }
   ],
   "source": [
    "#We determine the column names\n",
    "rfm_table.rename(columns= {'InvoiceDate': 'Recency',\n",
    "                          'TotalPrice_y': 'Frequency',\n",
    "                          'TotalPrice_x': 'Monetary'}, inplace= True)\n",
    "rfm_table.head()"
   ]
  },
  {
   "cell_type": "code",
   "execution_count": 17,
   "id": "bbc96fef",
   "metadata": {
    "execution": {
     "iopub.execute_input": "2024-02-09T23:49:49.508687Z",
     "iopub.status.busy": "2024-02-09T23:49:49.508286Z",
     "iopub.status.idle": "2024-02-09T23:49:49.549667Z",
     "shell.execute_reply": "2024-02-09T23:49:49.548475Z"
    },
    "papermill": {
     "duration": 0.05102,
     "end_time": "2024-02-09T23:49:49.551673",
     "exception": false,
     "start_time": "2024-02-09T23:49:49.500653",
     "status": "completed"
    },
    "tags": []
   },
   "outputs": [
    {
     "data": {
      "text/html": [
       "<div>\n",
       "<style scoped>\n",
       "    .dataframe tbody tr th:only-of-type {\n",
       "        vertical-align: middle;\n",
       "    }\n",
       "\n",
       "    .dataframe tbody tr th {\n",
       "        vertical-align: top;\n",
       "    }\n",
       "\n",
       "    .dataframe thead th {\n",
       "        text-align: right;\n",
       "    }\n",
       "</style>\n",
       "<table border=\"1\" class=\"dataframe\">\n",
       "  <thead>\n",
       "    <tr style=\"text-align: right;\">\n",
       "      <th></th>\n",
       "      <th>Monetary</th>\n",
       "      <th>Recency</th>\n",
       "      <th>Frequency</th>\n",
       "      <th>Freq_Tile</th>\n",
       "      <th>Rec_Tile</th>\n",
       "      <th>Mone_Tile</th>\n",
       "      <th>RFM Score</th>\n",
       "    </tr>\n",
       "    <tr>\n",
       "      <th>Customer ID</th>\n",
       "      <th></th>\n",
       "      <th></th>\n",
       "      <th></th>\n",
       "      <th></th>\n",
       "      <th></th>\n",
       "      <th></th>\n",
       "      <th></th>\n",
       "    </tr>\n",
       "  </thead>\n",
       "  <tbody>\n",
       "    <tr>\n",
       "      <th>14932.0</th>\n",
       "      <td>666.13</td>\n",
       "      <td>387</td>\n",
       "      <td>2</td>\n",
       "      <td>2</td>\n",
       "      <td>1</td>\n",
       "      <td>3</td>\n",
       "      <td>123</td>\n",
       "    </tr>\n",
       "    <tr>\n",
       "      <th>14667.0</th>\n",
       "      <td>12685.94</td>\n",
       "      <td>387</td>\n",
       "      <td>31</td>\n",
       "      <td>5</td>\n",
       "      <td>1</td>\n",
       "      <td>5</td>\n",
       "      <td>155</td>\n",
       "    </tr>\n",
       "    <tr>\n",
       "      <th>17097.0</th>\n",
       "      <td>386.03</td>\n",
       "      <td>387</td>\n",
       "      <td>2</td>\n",
       "      <td>2</td>\n",
       "      <td>1</td>\n",
       "      <td>2</td>\n",
       "      <td>122</td>\n",
       "    </tr>\n",
       "    <tr>\n",
       "      <th>15288.0</th>\n",
       "      <td>1576.61</td>\n",
       "      <td>387</td>\n",
       "      <td>6</td>\n",
       "      <td>4</td>\n",
       "      <td>1</td>\n",
       "      <td>4</td>\n",
       "      <td>144</td>\n",
       "    </tr>\n",
       "    <tr>\n",
       "      <th>17950.0</th>\n",
       "      <td>950.61</td>\n",
       "      <td>387</td>\n",
       "      <td>6</td>\n",
       "      <td>4</td>\n",
       "      <td>1</td>\n",
       "      <td>3</td>\n",
       "      <td>143</td>\n",
       "    </tr>\n",
       "  </tbody>\n",
       "</table>\n",
       "</div>"
      ],
      "text/plain": [
       "             Monetary  Recency  Frequency  Freq_Tile  Rec_Tile  Mone_Tile  \\\n",
       "Customer ID                                                                 \n",
       "14932.0        666.13      387          2          2         1          3   \n",
       "14667.0      12685.94      387         31          5         1          5   \n",
       "17097.0        386.03      387          2          2         1          2   \n",
       "15288.0       1576.61      387          6          4         1          4   \n",
       "17950.0        950.61      387          6          4         1          3   \n",
       "\n",
       "            RFM Score  \n",
       "Customer ID            \n",
       "14932.0           123  \n",
       "14667.0           155  \n",
       "17097.0           122  \n",
       "15288.0           144  \n",
       "17950.0           143  "
      ]
     },
     "execution_count": 17,
     "metadata": {},
     "output_type": "execute_result"
    }
   ],
   "source": [
    "#Frequency finding\n",
    "def RScore(x,p,d):\n",
    "    if x <= d[p][0.20]:\n",
    "        return 0\n",
    "    elif x <= d[p][0.40]:\n",
    "        return 1\n",
    "    elif x <= d[p][0.60]: \n",
    "        return 2\n",
    "    elif x <= d[p][0.80]:\n",
    "        return 3\n",
    "    else:\n",
    "        return 4\n",
    "quantiles = rfm_table.quantile(q=[0.20,0.40,0.60,0.80])\n",
    "quantiles = quantiles.to_dict()\n",
    "rfm_table['Freq_Tile'] = rfm_table['Frequency'].apply(RScore, args=('Frequency',quantiles,))\n",
    "#Recency finding\n",
    "rfm_table = rfm_table.sort_values('Recency',ascending=True)\n",
    "rfm_table['Rec_Tile'] = pd.qcut(rfm_table['Recency'],5,labels=False)\n",
    "#Monetary finding\n",
    "#rfm_table.sort_values('Monetary',ascending=False)\n",
    "rfm_table['Mone_Tile'] = pd.qcut(rfm_table['Monetary'],5,labels=False)\n",
    "#If we do not want to include the value 'zero', we increase the values we find by 1\n",
    "rfm_table['Rec_Tile'] = rfm_table['Rec_Tile'] + 1\n",
    "rfm_table['Freq_Tile'] = rfm_table['Freq_Tile'] + 1\n",
    "rfm_table['Mone_Tile'] = rfm_table['Mone_Tile'] + 1\n",
    "#We combine the values to get a single score\n",
    "rfm_table['RFM Score'] = rfm_table['Rec_Tile'].map(str) + rfm_table['Freq_Tile'].map(str) + rfm_table['Mone_Tile'].map(str)\n",
    "rfm_table.head()"
   ]
  },
  {
   "cell_type": "code",
   "execution_count": 18,
   "id": "53f78c1c",
   "metadata": {
    "execution": {
     "iopub.execute_input": "2024-02-09T23:49:49.569678Z",
     "iopub.status.busy": "2024-02-09T23:49:49.569293Z",
     "iopub.status.idle": "2024-02-09T23:49:49.600854Z",
     "shell.execute_reply": "2024-02-09T23:49:49.599941Z"
    },
    "papermill": {
     "duration": 0.041952,
     "end_time": "2024-02-09T23:49:49.602644",
     "exception": false,
     "start_time": "2024-02-09T23:49:49.560692",
     "status": "completed"
    },
    "tags": []
   },
   "outputs": [
    {
     "data": {
      "text/html": [
       "<div>\n",
       "<style scoped>\n",
       "    .dataframe tbody tr th:only-of-type {\n",
       "        vertical-align: middle;\n",
       "    }\n",
       "\n",
       "    .dataframe tbody tr th {\n",
       "        vertical-align: top;\n",
       "    }\n",
       "\n",
       "    .dataframe thead tr th {\n",
       "        text-align: left;\n",
       "    }\n",
       "\n",
       "    .dataframe thead tr:last-of-type th {\n",
       "        text-align: right;\n",
       "    }\n",
       "</style>\n",
       "<table border=\"1\" class=\"dataframe\">\n",
       "  <thead>\n",
       "    <tr>\n",
       "      <th></th>\n",
       "      <th colspan=\"4\" halign=\"left\">Recency</th>\n",
       "      <th colspan=\"4\" halign=\"left\">Frequency</th>\n",
       "      <th colspan=\"4\" halign=\"left\">Monetary</th>\n",
       "    </tr>\n",
       "    <tr>\n",
       "      <th></th>\n",
       "      <th>mean</th>\n",
       "      <th>min</th>\n",
       "      <th>max</th>\n",
       "      <th>count</th>\n",
       "      <th>mean</th>\n",
       "      <th>min</th>\n",
       "      <th>max</th>\n",
       "      <th>count</th>\n",
       "      <th>mean</th>\n",
       "      <th>min</th>\n",
       "      <th>max</th>\n",
       "      <th>count</th>\n",
       "    </tr>\n",
       "    <tr>\n",
       "      <th>RFM Score</th>\n",
       "      <th></th>\n",
       "      <th></th>\n",
       "      <th></th>\n",
       "      <th></th>\n",
       "      <th></th>\n",
       "      <th></th>\n",
       "      <th></th>\n",
       "      <th></th>\n",
       "      <th></th>\n",
       "      <th></th>\n",
       "      <th></th>\n",
       "      <th></th>\n",
       "    </tr>\n",
       "  </thead>\n",
       "  <tbody>\n",
       "    <tr>\n",
       "      <th>111</th>\n",
       "      <td>395.3</td>\n",
       "      <td>388</td>\n",
       "      <td>401</td>\n",
       "      <td>44</td>\n",
       "      <td>1.0</td>\n",
       "      <td>1</td>\n",
       "      <td>1</td>\n",
       "      <td>44</td>\n",
       "      <td>143.8</td>\n",
       "      <td>11.0</td>\n",
       "      <td>247.4</td>\n",
       "      <td>44</td>\n",
       "    </tr>\n",
       "    <tr>\n",
       "      <th>112</th>\n",
       "      <td>394.7</td>\n",
       "      <td>387</td>\n",
       "      <td>401</td>\n",
       "      <td>35</td>\n",
       "      <td>1.0</td>\n",
       "      <td>1</td>\n",
       "      <td>1</td>\n",
       "      <td>35</td>\n",
       "      <td>341.9</td>\n",
       "      <td>255.0</td>\n",
       "      <td>487.8</td>\n",
       "      <td>35</td>\n",
       "    </tr>\n",
       "    <tr>\n",
       "      <th>113</th>\n",
       "      <td>394.5</td>\n",
       "      <td>388</td>\n",
       "      <td>400</td>\n",
       "      <td>6</td>\n",
       "      <td>1.0</td>\n",
       "      <td>1</td>\n",
       "      <td>1</td>\n",
       "      <td>6</td>\n",
       "      <td>781.4</td>\n",
       "      <td>590.0</td>\n",
       "      <td>949.8</td>\n",
       "      <td>6</td>\n",
       "    </tr>\n",
       "    <tr>\n",
       "      <th>114</th>\n",
       "      <td>397.3</td>\n",
       "      <td>394</td>\n",
       "      <td>401</td>\n",
       "      <td>3</td>\n",
       "      <td>1.0</td>\n",
       "      <td>1</td>\n",
       "      <td>1</td>\n",
       "      <td>3</td>\n",
       "      <td>1367.9</td>\n",
       "      <td>1056.6</td>\n",
       "      <td>1938.4</td>\n",
       "      <td>3</td>\n",
       "    </tr>\n",
       "    <tr>\n",
       "      <th>115</th>\n",
       "      <td>396.0</td>\n",
       "      <td>396</td>\n",
       "      <td>396</td>\n",
       "      <td>1</td>\n",
       "      <td>1.0</td>\n",
       "      <td>1</td>\n",
       "      <td>1</td>\n",
       "      <td>1</td>\n",
       "      <td>2945.4</td>\n",
       "      <td>2945.4</td>\n",
       "      <td>2945.4</td>\n",
       "      <td>1</td>\n",
       "    </tr>\n",
       "  </tbody>\n",
       "</table>\n",
       "</div>"
      ],
      "text/plain": [
       "          Recency                 Frequency               Monetary          \\\n",
       "             mean  min  max count      mean min max count     mean     min   \n",
       "RFM Score                                                                    \n",
       "111         395.3  388  401    44       1.0   1   1    44    143.8    11.0   \n",
       "112         394.7  387  401    35       1.0   1   1    35    341.9   255.0   \n",
       "113         394.5  388  400     6       1.0   1   1     6    781.4   590.0   \n",
       "114         397.3  394  401     3       1.0   1   1     3   1367.9  1056.6   \n",
       "115         396.0  396  396     1       1.0   1   1     1   2945.4  2945.4   \n",
       "\n",
       "                         \n",
       "              max count  \n",
       "RFM Score                \n",
       "111         247.4    44  \n",
       "112         487.8    35  \n",
       "113         949.8     6  \n",
       "114        1938.4     3  \n",
       "115        2945.4     1  "
      ]
     },
     "execution_count": 18,
     "metadata": {},
     "output_type": "execute_result"
    }
   ],
   "source": [
    "#We examine the content of values.\n",
    "rfm_table.groupby('RFM Score').agg({\n",
    "'Recency': ['mean','min','max','count'],\n",
    "'Frequency': ['mean','min','max','count'],\n",
    "'Monetary': ['mean','min','max','count'] }).round(1).head()"
   ]
  },
  {
   "cell_type": "code",
   "execution_count": 19,
   "id": "e15ad933",
   "metadata": {
    "execution": {
     "iopub.execute_input": "2024-02-09T23:49:49.618504Z",
     "iopub.status.busy": "2024-02-09T23:49:49.618177Z",
     "iopub.status.idle": "2024-02-09T23:49:50.136942Z",
     "shell.execute_reply": "2024-02-09T23:49:50.135960Z"
    },
    "papermill": {
     "duration": 0.528892,
     "end_time": "2024-02-09T23:49:50.138765",
     "exception": false,
     "start_time": "2024-02-09T23:49:49.609873",
     "status": "completed"
    },
    "tags": []
   },
   "outputs": [
    {
     "data": {
      "image/png": "[encoded data removed]",
      "text/plain": [
       "<Figure size 640x480 with 1 Axes>"
      ]
     },
     "metadata": {},
     "output_type": "display_data"
    },
    {
     "data": {
      "image/png": "[encoded data removed]",
      "text/plain": [
       "<Figure size 640x480 with 1 Axes>"
      ]
     },
     "metadata": {},
     "output_type": "display_data"
    }
   ],
   "source": [
    "# Let's create a sample DataFrame (customer ID, Recency, Frequency, Monetary)\n",
    "data = pd.DataFrame({\n",
    "    'CustomerID': [1, 2, 3, 4, 5],\n",
    "    'Recency': [10, 5, 20, 15, 8],\n",
    "    'Frequency': [5, 2, 8, 3, 10],\n",
    "    'Monetary': [100, 50, 200, 150, 80]\n",
    "})\n",
    "# Bar chart showing the number of customers by segment\n",
    "sns.barplot(x='CustomerID', y='Recency', data=data)\n",
    "plt.title('Recency Segments')\n",
    "plt.show()\n",
    "# Scatter plot showing Frequency and Monetary relationship between customer segments\n",
    "sns.scatterplot(x='Frequency', y='Monetary', hue='Recency', data=data)\n",
    "plt.title('Frequency and Monetary Relationship')\n",
    "plt.show()"
   ]
  }
 ],
 "metadata": {
  "kaggle": {
   "accelerator": "none",
   "dataSources": [
    {
     "datasetId": 4421402,
     "sourceId": 7595987,
     "sourceType": "datasetVersion"
    }
   ],
   "dockerImageVersionId": 30646,
   "isGpuEnabled": false,
   "isInternetEnabled": true,
   "language": "python",
   "sourceType": "notebook"
  },
  "kernelspec": {
   "display_name": "Python 3",
   "language": "python",
   "name": "python3"
  },
  "language_info": {
   "codemirror_mode": {
    "name": "ipython",
    "version": 3
   },
   "file_extension": ".py",
   "mimetype": "text/x-python",
   "name": "python",
   "nbconvert_exporter": "python",
   "pygments_lexer": "ipython3",
   "version": "3.10.13"
  },
  "papermill": {
   "default_parameters": {},
   "duration": 71.848554,
   "end_time": "2024-02-09T23:49:50.970164",
   "environment_variables": {},
   "exception": null,
   "input_path": "__notebook__.ipynb",
   "output_path": "__notebook__.ipynb",
   "parameters": {},
   "start_time": "2024-02-09T23:48:39.121610",
   "version": "2.5.0"
  }
 },
 "nbformat": 4,
 "nbformat_minor": 5
}
